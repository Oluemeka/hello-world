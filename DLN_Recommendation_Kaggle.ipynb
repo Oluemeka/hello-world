{
  "nbformat": 4,
  "nbformat_minor": 0,
  "metadata": {
    "colab": {
      "name": "DLN_Recommendation_Kaggle.ipynb",
      "version": "0.3.2",
      "provenance": [],
      "include_colab_link": true
    },
    "kernelspec": {
      "display_name": "Python [conda root]",
      "language": "python",
      "name": "conda-root-py"
    }
  },
  "cells": [
    {
      "cell_type": "markdown",
      "metadata": {
        "id": "view-in-github",
        "colab_type": "text"
      },
      "source": [
        "[View in Colaboratory](https://colab.research.google.com/github/Oluemeka/hello-world/blob/master/DLN_Recommendation_Kaggle.ipynb)"
      ]
    },
    {
      "metadata": {
        "id": "PPvWXtc3JvgH",
        "colab_type": "code",
        "colab": {}
      },
      "cell_type": "code",
      "source": [
        "import numpy as np\n",
        "import pandas as pd\n",
        "from matplotlib import pyplot as plt\n",
        "import os\n",
        "import re"
      ],
      "execution_count": 0,
      "outputs": []
    },
    {
      "metadata": {
        "id": "RILOiJm2Jvgd",
        "colab_type": "code",
        "colab": {},
        "outputId": "78125b91-1076-4201-8d9d-3bb6ea6003a9"
      },
      "cell_type": "code",
      "source": [
        "os.getcwd()"
      ],
      "execution_count": 0,
      "outputs": [
        {
          "output_type": "execute_result",
          "data": {
            "text/plain": [
              "'C:\\\\Users\\\\0wner'"
            ]
          },
          "metadata": {
            "tags": []
          },
          "execution_count": 2
        }
      ]
    },
    {
      "metadata": {
        "id": "Cloc6HxyJvgw",
        "colab_type": "code",
        "colab": {}
      },
      "cell_type": "code",
      "source": [
        "os.chdir(r'C:\\Users\\0wner\\Documents\\Data Science\\Kaggle Comps\\DLN18')"
      ],
      "execution_count": 0,
      "outputs": []
    },
    {
      "metadata": {
        "id": "Pr73NKTpJvhE",
        "colab_type": "code",
        "colab": {}
      },
      "cell_type": "code",
      "source": [
        "df=pd.read_csv('train.csv')"
      ],
      "execution_count": 0,
      "outputs": []
    },
    {
      "metadata": {
        "id": "K6rIbyGmJvhP",
        "colab_type": "code",
        "colab": {},
        "outputId": "baf280b6-0e42-493a-8db4-178203408274"
      },
      "cell_type": "code",
      "source": [
        "df.head(5)"
      ],
      "execution_count": 0,
      "outputs": [
        {
          "output_type": "execute_result",
          "data": {
            "text/html": [
              "<div>\n",
              "<table border=\"1\" class=\"dataframe\">\n",
              "  <thead>\n",
              "    <tr style=\"text-align: right;\">\n",
              "      <th></th>\n",
              "      <th>Viewers_ID</th>\n",
              "      <th>Joke_identifier</th>\n",
              "      <th>Response_ID</th>\n",
              "      <th>Rating</th>\n",
              "    </tr>\n",
              "  </thead>\n",
              "  <tbody>\n",
              "    <tr>\n",
              "      <th>0</th>\n",
              "      <td>A1</td>\n",
              "      <td>Klint De Drunk Enugu 1</td>\n",
              "      <td>A1_Klint De Drunk Enugu 1</td>\n",
              "      <td>0.11</td>\n",
              "    </tr>\n",
              "    <tr>\n",
              "      <th>1</th>\n",
              "      <td>A1</td>\n",
              "      <td>Klint De Drunk Enugu 2</td>\n",
              "      <td>A1_Klint De Drunk Enugu 2</td>\n",
              "      <td>-4.64</td>\n",
              "    </tr>\n",
              "    <tr>\n",
              "      <th>2</th>\n",
              "      <td>A1</td>\n",
              "      <td>Klint De Drunk PH 1</td>\n",
              "      <td>A1_Klint De Drunk PH 1</td>\n",
              "      <td>-3.39</td>\n",
              "    </tr>\n",
              "    <tr>\n",
              "      <th>3</th>\n",
              "      <td>A1</td>\n",
              "      <td>Klint De Drunk PH 2</td>\n",
              "      <td>A1_Klint De Drunk PH 2</td>\n",
              "      <td>0.44</td>\n",
              "    </tr>\n",
              "    <tr>\n",
              "      <th>4</th>\n",
              "      <td>A1</td>\n",
              "      <td>Klint De Drunk Lagos 1</td>\n",
              "      <td>A1_Klint De Drunk Lagos 1</td>\n",
              "      <td>-4.83</td>\n",
              "    </tr>\n",
              "  </tbody>\n",
              "</table>\n",
              "</div>"
            ],
            "text/plain": [
              "  Viewers_ID         Joke_identifier                Response_ID  Rating\n",
              "0         A1  Klint De Drunk Enugu 1  A1_Klint De Drunk Enugu 1    0.11\n",
              "1         A1  Klint De Drunk Enugu 2  A1_Klint De Drunk Enugu 2   -4.64\n",
              "2         A1     Klint De Drunk PH 1     A1_Klint De Drunk PH 1   -3.39\n",
              "3         A1     Klint De Drunk PH 2     A1_Klint De Drunk PH 2    0.44\n",
              "4         A1  Klint De Drunk Lagos 1  A1_Klint De Drunk Lagos 1   -4.83"
            ]
          },
          "metadata": {
            "tags": []
          },
          "execution_count": 5
        }
      ]
    },
    {
      "metadata": {
        "id": "nZXUPAV6Jvhf",
        "colab_type": "code",
        "colab": {},
        "outputId": "3e96f07b-dff8-46dc-ccf7-29470ed4ce22"
      },
      "cell_type": "code",
      "source": [
        "df.info()"
      ],
      "execution_count": 0,
      "outputs": [
        {
          "output_type": "stream",
          "text": [
            "<class 'pandas.core.frame.DataFrame'>\n",
            "RangeIndex: 612702 entries, 0 to 612701\n",
            "Data columns (total 4 columns):\n",
            "Viewers_ID         612702 non-null object\n",
            "Joke_identifier    612702 non-null object\n",
            "Response_ID        612702 non-null object\n",
            "Rating             612702 non-null float64\n",
            "dtypes: float64(1), object(3)\n",
            "memory usage: 11.7+ MB\n"
          ],
          "name": "stdout"
        }
      ]
    },
    {
      "metadata": {
        "id": "VfBXevu7Jvhw",
        "colab_type": "code",
        "colab": {},
        "outputId": "ca97aed7-4549-46d7-85fa-32baaee147a0"
      },
      "cell_type": "code",
      "source": [
        "df.describe()"
      ],
      "execution_count": 0,
      "outputs": [
        {
          "output_type": "execute_result",
          "data": {
            "text/html": [
              "<div>\n",
              "<table border=\"1\" class=\"dataframe\">\n",
              "  <thead>\n",
              "    <tr style=\"text-align: right;\">\n",
              "      <th></th>\n",
              "      <th>Rating</th>\n",
              "    </tr>\n",
              "  </thead>\n",
              "  <tbody>\n",
              "    <tr>\n",
              "      <th>count</th>\n",
              "      <td>612702.000000</td>\n",
              "    </tr>\n",
              "    <tr>\n",
              "      <th>mean</th>\n",
              "      <td>0.647024</td>\n",
              "    </tr>\n",
              "    <tr>\n",
              "      <th>std</th>\n",
              "      <td>2.667301</td>\n",
              "    </tr>\n",
              "    <tr>\n",
              "      <th>min</th>\n",
              "      <td>-5.000000</td>\n",
              "    </tr>\n",
              "    <tr>\n",
              "      <th>25%</th>\n",
              "      <td>-1.300000</td>\n",
              "    </tr>\n",
              "    <tr>\n",
              "      <th>50%</th>\n",
              "      <td>0.950000</td>\n",
              "    </tr>\n",
              "    <tr>\n",
              "      <th>75%</th>\n",
              "      <td>2.690000</td>\n",
              "    </tr>\n",
              "    <tr>\n",
              "      <th>max</th>\n",
              "      <td>5.000000</td>\n",
              "    </tr>\n",
              "  </tbody>\n",
              "</table>\n",
              "</div>"
            ],
            "text/plain": [
              "              Rating\n",
              "count  612702.000000\n",
              "mean        0.647024\n",
              "std         2.667301\n",
              "min        -5.000000\n",
              "25%        -1.300000\n",
              "50%         0.950000\n",
              "75%         2.690000\n",
              "max         5.000000"
            ]
          },
          "metadata": {
            "tags": []
          },
          "execution_count": 7
        }
      ]
    },
    {
      "metadata": {
        "id": "BQBt3j1hJviC",
        "colab_type": "code",
        "colab": {},
        "outputId": "26efe3da-11d3-4e6d-c672-06451e4168d8"
      },
      "cell_type": "code",
      "source": [
        "#This is to determine the number of unique users and jokes\n",
        "n_users=df.Viewers_ID.unique().shape[0]\n",
        "n_jokes=df.Joke_identifier.unique().shape[0]\n",
        "print(\"Number of users:\" + str(n_users) + \" Number of jokes:\" + str(n_jokes))"
      ],
      "execution_count": 0,
      "outputs": [
        {
          "output_type": "stream",
          "text": [
            "Number of users:40863 Number of jokes:127\n"
          ],
          "name": "stdout"
        }
      ]
    },
    {
      "metadata": {
        "id": "vXVzcYawJvip",
        "colab_type": "code",
        "colab": {}
      },
      "cell_type": "code",
      "source": [
        "df['Number']= df['Joke_identifier'].str.extract('(\\d)', expand=True)"
      ],
      "execution_count": 0,
      "outputs": []
    },
    {
      "metadata": {
        "id": "z2s68DNmJvi7",
        "colab_type": "code",
        "colab": {}
      },
      "cell_type": "code",
      "source": [
        "df['Comedian'] = df['Joke_identifier'].str.extract('([A-Z]\\w{0,})', expand=True)"
      ],
      "execution_count": 0,
      "outputs": []
    },
    {
      "metadata": {
        "id": "Ny_UoPZoJvjJ",
        "colab_type": "code",
        "colab": {},
        "outputId": "ee0b9be2-14af-46f0-e20f-41a99f531102"
      },
      "cell_type": "code",
      "source": [
        "df.head()"
      ],
      "execution_count": 0,
      "outputs": [
        {
          "output_type": "execute_result",
          "data": {
            "text/html": [
              "<div>\n",
              "<table border=\"1\" class=\"dataframe\">\n",
              "  <thead>\n",
              "    <tr style=\"text-align: right;\">\n",
              "      <th></th>\n",
              "      <th>Viewers_ID</th>\n",
              "      <th>Joke_identifier</th>\n",
              "      <th>Response_ID</th>\n",
              "      <th>Rating</th>\n",
              "      <th>Number</th>\n",
              "      <th>Comedian</th>\n",
              "    </tr>\n",
              "  </thead>\n",
              "  <tbody>\n",
              "    <tr>\n",
              "      <th>0</th>\n",
              "      <td>A1</td>\n",
              "      <td>Klint De Drunk Enugu 1</td>\n",
              "      <td>A1_Klint De Drunk Enugu 1</td>\n",
              "      <td>0.11</td>\n",
              "      <td>1</td>\n",
              "      <td>Klint</td>\n",
              "    </tr>\n",
              "    <tr>\n",
              "      <th>1</th>\n",
              "      <td>A1</td>\n",
              "      <td>Klint De Drunk Enugu 2</td>\n",
              "      <td>A1_Klint De Drunk Enugu 2</td>\n",
              "      <td>-4.64</td>\n",
              "      <td>2</td>\n",
              "      <td>Klint</td>\n",
              "    </tr>\n",
              "    <tr>\n",
              "      <th>2</th>\n",
              "      <td>A1</td>\n",
              "      <td>Klint De Drunk PH 1</td>\n",
              "      <td>A1_Klint De Drunk PH 1</td>\n",
              "      <td>-3.39</td>\n",
              "      <td>1</td>\n",
              "      <td>Klint</td>\n",
              "    </tr>\n",
              "    <tr>\n",
              "      <th>3</th>\n",
              "      <td>A1</td>\n",
              "      <td>Klint De Drunk PH 2</td>\n",
              "      <td>A1_Klint De Drunk PH 2</td>\n",
              "      <td>0.44</td>\n",
              "      <td>2</td>\n",
              "      <td>Klint</td>\n",
              "    </tr>\n",
              "    <tr>\n",
              "      <th>4</th>\n",
              "      <td>A1</td>\n",
              "      <td>Klint De Drunk Lagos 1</td>\n",
              "      <td>A1_Klint De Drunk Lagos 1</td>\n",
              "      <td>-4.83</td>\n",
              "      <td>1</td>\n",
              "      <td>Klint</td>\n",
              "    </tr>\n",
              "  </tbody>\n",
              "</table>\n",
              "</div>"
            ],
            "text/plain": [
              "  Viewers_ID         Joke_identifier                Response_ID  Rating  \\\n",
              "0         A1  Klint De Drunk Enugu 1  A1_Klint De Drunk Enugu 1    0.11   \n",
              "1         A1  Klint De Drunk Enugu 2  A1_Klint De Drunk Enugu 2   -4.64   \n",
              "2         A1     Klint De Drunk PH 1     A1_Klint De Drunk PH 1   -3.39   \n",
              "3         A1     Klint De Drunk PH 2     A1_Klint De Drunk PH 2    0.44   \n",
              "4         A1  Klint De Drunk Lagos 1  A1_Klint De Drunk Lagos 1   -4.83   \n",
              "\n",
              "  Number Comedian  \n",
              "0      1    Klint  \n",
              "1      2    Klint  \n",
              "2      1    Klint  \n",
              "3      2    Klint  \n",
              "4      1    Klint  "
            ]
          },
          "metadata": {
            "tags": []
          },
          "execution_count": 11
        }
      ]
    },
    {
      "metadata": {
        "id": "Zdse7sQtJvjc",
        "colab_type": "code",
        "colab": {},
        "outputId": "07b6207e-3c65-4634-9bfe-66993fd7f92c"
      },
      "cell_type": "code",
      "source": [
        "n_comedians=df.Comedian.unique().shape[0]\n",
        "print(\"Number of Comedians:\" + str(n_comedians))\n",
        "df.Comedian.value_counts()\n"
      ],
      "execution_count": 0,
      "outputs": [
        {
          "output_type": "stream",
          "text": [
            "Number of Comedians:13\n"
          ],
          "name": "stdout"
        },
        {
          "output_type": "execute_result",
          "data": {
            "text/plain": [
              "Klint          201041\n",
              "AliBaba         82929\n",
              "I               64809\n",
              "Bovi            63318\n",
              "Akpororo        63020\n",
              "AY              62161\n",
              "BasketMouth     46698\n",
              "Seyi            18864\n",
              "Gordons          8561\n",
              "Helen            1144\n",
              "Saka              132\n",
              "Funny              13\n",
              "Okey               12\n",
              "Name: Comedian, dtype: int64"
            ]
          },
          "metadata": {
            "tags": []
          },
          "execution_count": 12
        }
      ]
    },
    {
      "metadata": {
        "id": "IYmGzvUNJvj8",
        "colab_type": "code",
        "colab": {},
        "outputId": "3704932f-2093-489d-b124-aeb73ed9d0f3"
      },
      "cell_type": "code",
      "source": [
        "# Extract the location from the Joke identifier column\n",
        "df['Location']= df.Joke_identifier.str.split(' ')\n",
        "df['Location']=df['Location'].str[-2]\n",
        "df.head()"
      ],
      "execution_count": 0,
      "outputs": [
        {
          "output_type": "execute_result",
          "data": {
            "text/html": [
              "<div>\n",
              "<table border=\"1\" class=\"dataframe\">\n",
              "  <thead>\n",
              "    <tr style=\"text-align: right;\">\n",
              "      <th></th>\n",
              "      <th>Viewers_ID</th>\n",
              "      <th>Joke_identifier</th>\n",
              "      <th>Response_ID</th>\n",
              "      <th>Rating</th>\n",
              "      <th>Number</th>\n",
              "      <th>Comedian</th>\n",
              "      <th>Location</th>\n",
              "    </tr>\n",
              "  </thead>\n",
              "  <tbody>\n",
              "    <tr>\n",
              "      <th>0</th>\n",
              "      <td>A1</td>\n",
              "      <td>Klint De Drunk Enugu 1</td>\n",
              "      <td>A1_Klint De Drunk Enugu 1</td>\n",
              "      <td>0.11</td>\n",
              "      <td>1</td>\n",
              "      <td>Klint</td>\n",
              "      <td>Enugu</td>\n",
              "    </tr>\n",
              "    <tr>\n",
              "      <th>1</th>\n",
              "      <td>A1</td>\n",
              "      <td>Klint De Drunk Enugu 2</td>\n",
              "      <td>A1_Klint De Drunk Enugu 2</td>\n",
              "      <td>-4.64</td>\n",
              "      <td>2</td>\n",
              "      <td>Klint</td>\n",
              "      <td>Enugu</td>\n",
              "    </tr>\n",
              "    <tr>\n",
              "      <th>2</th>\n",
              "      <td>A1</td>\n",
              "      <td>Klint De Drunk PH 1</td>\n",
              "      <td>A1_Klint De Drunk PH 1</td>\n",
              "      <td>-3.39</td>\n",
              "      <td>1</td>\n",
              "      <td>Klint</td>\n",
              "      <td>PH</td>\n",
              "    </tr>\n",
              "    <tr>\n",
              "      <th>3</th>\n",
              "      <td>A1</td>\n",
              "      <td>Klint De Drunk PH 2</td>\n",
              "      <td>A1_Klint De Drunk PH 2</td>\n",
              "      <td>0.44</td>\n",
              "      <td>2</td>\n",
              "      <td>Klint</td>\n",
              "      <td>PH</td>\n",
              "    </tr>\n",
              "    <tr>\n",
              "      <th>4</th>\n",
              "      <td>A1</td>\n",
              "      <td>Klint De Drunk Lagos 1</td>\n",
              "      <td>A1_Klint De Drunk Lagos 1</td>\n",
              "      <td>-4.83</td>\n",
              "      <td>1</td>\n",
              "      <td>Klint</td>\n",
              "      <td>Lagos</td>\n",
              "    </tr>\n",
              "  </tbody>\n",
              "</table>\n",
              "</div>"
            ],
            "text/plain": [
              "  Viewers_ID         Joke_identifier                Response_ID  Rating  \\\n",
              "0         A1  Klint De Drunk Enugu 1  A1_Klint De Drunk Enugu 1    0.11   \n",
              "1         A1  Klint De Drunk Enugu 2  A1_Klint De Drunk Enugu 2   -4.64   \n",
              "2         A1     Klint De Drunk PH 1     A1_Klint De Drunk PH 1   -3.39   \n",
              "3         A1     Klint De Drunk PH 2     A1_Klint De Drunk PH 2    0.44   \n",
              "4         A1  Klint De Drunk Lagos 1  A1_Klint De Drunk Lagos 1   -4.83   \n",
              "\n",
              "  Number Comedian Location  \n",
              "0      1    Klint    Enugu  \n",
              "1      2    Klint    Enugu  \n",
              "2      1    Klint       PH  \n",
              "3      2    Klint       PH  \n",
              "4      1    Klint    Lagos  "
            ]
          },
          "metadata": {
            "tags": []
          },
          "execution_count": 13
        }
      ]
    },
    {
      "metadata": {
        "id": "ggJmMkq_JvkU",
        "colab_type": "code",
        "colab": {},
        "outputId": "85449c31-0839-4063-90a2-776ddb2dd2f6"
      },
      "cell_type": "code",
      "source": [
        "df.head()"
      ],
      "execution_count": 0,
      "outputs": [
        {
          "output_type": "execute_result",
          "data": {
            "text/html": [
              "<div>\n",
              "<table border=\"1\" class=\"dataframe\">\n",
              "  <thead>\n",
              "    <tr style=\"text-align: right;\">\n",
              "      <th></th>\n",
              "      <th>Viewers_ID</th>\n",
              "      <th>Joke_identifier</th>\n",
              "      <th>Response_ID</th>\n",
              "      <th>Rating</th>\n",
              "      <th>Number</th>\n",
              "      <th>Comedian</th>\n",
              "      <th>Location</th>\n",
              "    </tr>\n",
              "  </thead>\n",
              "  <tbody>\n",
              "    <tr>\n",
              "      <th>0</th>\n",
              "      <td>A1</td>\n",
              "      <td>Klint De Drunk Enugu 1</td>\n",
              "      <td>A1_Klint De Drunk Enugu 1</td>\n",
              "      <td>0.11</td>\n",
              "      <td>1</td>\n",
              "      <td>Klint</td>\n",
              "      <td>Enugu</td>\n",
              "    </tr>\n",
              "    <tr>\n",
              "      <th>1</th>\n",
              "      <td>A1</td>\n",
              "      <td>Klint De Drunk Enugu 2</td>\n",
              "      <td>A1_Klint De Drunk Enugu 2</td>\n",
              "      <td>-4.64</td>\n",
              "      <td>2</td>\n",
              "      <td>Klint</td>\n",
              "      <td>Enugu</td>\n",
              "    </tr>\n",
              "    <tr>\n",
              "      <th>2</th>\n",
              "      <td>A1</td>\n",
              "      <td>Klint De Drunk PH 1</td>\n",
              "      <td>A1_Klint De Drunk PH 1</td>\n",
              "      <td>-3.39</td>\n",
              "      <td>1</td>\n",
              "      <td>Klint</td>\n",
              "      <td>PH</td>\n",
              "    </tr>\n",
              "    <tr>\n",
              "      <th>3</th>\n",
              "      <td>A1</td>\n",
              "      <td>Klint De Drunk PH 2</td>\n",
              "      <td>A1_Klint De Drunk PH 2</td>\n",
              "      <td>0.44</td>\n",
              "      <td>2</td>\n",
              "      <td>Klint</td>\n",
              "      <td>PH</td>\n",
              "    </tr>\n",
              "    <tr>\n",
              "      <th>4</th>\n",
              "      <td>A1</td>\n",
              "      <td>Klint De Drunk Lagos 1</td>\n",
              "      <td>A1_Klint De Drunk Lagos 1</td>\n",
              "      <td>-4.83</td>\n",
              "      <td>1</td>\n",
              "      <td>Klint</td>\n",
              "      <td>Lagos</td>\n",
              "    </tr>\n",
              "  </tbody>\n",
              "</table>\n",
              "</div>"
            ],
            "text/plain": [
              "  Viewers_ID         Joke_identifier                Response_ID  Rating  \\\n",
              "0         A1  Klint De Drunk Enugu 1  A1_Klint De Drunk Enugu 1    0.11   \n",
              "1         A1  Klint De Drunk Enugu 2  A1_Klint De Drunk Enugu 2   -4.64   \n",
              "2         A1     Klint De Drunk PH 1     A1_Klint De Drunk PH 1   -3.39   \n",
              "3         A1     Klint De Drunk PH 2     A1_Klint De Drunk PH 2    0.44   \n",
              "4         A1  Klint De Drunk Lagos 1  A1_Klint De Drunk Lagos 1   -4.83   \n",
              "\n",
              "  Number Comedian Location  \n",
              "0      1    Klint    Enugu  \n",
              "1      2    Klint    Enugu  \n",
              "2      1    Klint       PH  \n",
              "3      2    Klint       PH  \n",
              "4      1    Klint    Lagos  "
            ]
          },
          "metadata": {
            "tags": []
          },
          "execution_count": 14
        }
      ]
    },
    {
      "metadata": {
        "id": "PlWnzshfJvkg",
        "colab_type": "code",
        "colab": {}
      },
      "cell_type": "code",
      "source": [
        "#Use one hot encoding to preprocess the categorical features\n",
        "location_encoded=pd.get_dummies(df[\"Location\"])"
      ],
      "execution_count": 0,
      "outputs": []
    },
    {
      "metadata": {
        "id": "BsVuKer9Jvks",
        "colab_type": "code",
        "colab": {}
      },
      "cell_type": "code",
      "source": [
        "comedian_encoded=pd.get_dummies(df[\"Comedian\"])"
      ],
      "execution_count": 0,
      "outputs": []
    },
    {
      "metadata": {
        "id": "1cz3C4nEJvlA",
        "colab_type": "code",
        "colab": {}
      },
      "cell_type": "code",
      "source": [
        "df=df.join(location_encoded)"
      ],
      "execution_count": 0,
      "outputs": []
    },
    {
      "metadata": {
        "id": "jeUV7r5tJvlR",
        "colab_type": "code",
        "colab": {}
      },
      "cell_type": "code",
      "source": [
        "df=df.join(comedian_encoded)"
      ],
      "execution_count": 0,
      "outputs": []
    },
    {
      "metadata": {
        "id": "sl5cqY_aJvl_",
        "colab_type": "code",
        "colab": {},
        "outputId": "134534ed-d84f-496b-89f0-1b64432888ac"
      },
      "cell_type": "code",
      "source": [
        "df.head()"
      ],
      "execution_count": 0,
      "outputs": [
        {
          "output_type": "execute_result",
          "data": {
            "text/html": [
              "<div>\n",
              "<table border=\"1\" class=\"dataframe\">\n",
              "  <thead>\n",
              "    <tr style=\"text-align: right;\">\n",
              "      <th></th>\n",
              "      <th>Viewers_ID</th>\n",
              "      <th>Joke_identifier</th>\n",
              "      <th>Response_ID</th>\n",
              "      <th>Rating</th>\n",
              "      <th>Number</th>\n",
              "      <th>Comedian</th>\n",
              "      <th>Location</th>\n",
              "      <th>1</th>\n",
              "      <th>Abuja</th>\n",
              "      <th>Benin</th>\n",
              "      <th>...</th>\n",
              "      <th>BasketMouth</th>\n",
              "      <th>Bovi</th>\n",
              "      <th>Funny</th>\n",
              "      <th>Gordons</th>\n",
              "      <th>Helen</th>\n",
              "      <th>I</th>\n",
              "      <th>Klint</th>\n",
              "      <th>Okey</th>\n",
              "      <th>Saka</th>\n",
              "      <th>Seyi</th>\n",
              "    </tr>\n",
              "  </thead>\n",
              "  <tbody>\n",
              "    <tr>\n",
              "      <th>0</th>\n",
              "      <td>A1</td>\n",
              "      <td>Klint De Drunk Enugu 1</td>\n",
              "      <td>A1_Klint De Drunk Enugu 1</td>\n",
              "      <td>0.11</td>\n",
              "      <td>1</td>\n",
              "      <td>Klint</td>\n",
              "      <td>Enugu</td>\n",
              "      <td>0.0</td>\n",
              "      <td>0.0</td>\n",
              "      <td>0.0</td>\n",
              "      <td>...</td>\n",
              "      <td>0.0</td>\n",
              "      <td>0.0</td>\n",
              "      <td>0.0</td>\n",
              "      <td>0.0</td>\n",
              "      <td>0.0</td>\n",
              "      <td>0.0</td>\n",
              "      <td>1.0</td>\n",
              "      <td>0.0</td>\n",
              "      <td>0.0</td>\n",
              "      <td>0.0</td>\n",
              "    </tr>\n",
              "    <tr>\n",
              "      <th>1</th>\n",
              "      <td>A1</td>\n",
              "      <td>Klint De Drunk Enugu 2</td>\n",
              "      <td>A1_Klint De Drunk Enugu 2</td>\n",
              "      <td>-4.64</td>\n",
              "      <td>2</td>\n",
              "      <td>Klint</td>\n",
              "      <td>Enugu</td>\n",
              "      <td>0.0</td>\n",
              "      <td>0.0</td>\n",
              "      <td>0.0</td>\n",
              "      <td>...</td>\n",
              "      <td>0.0</td>\n",
              "      <td>0.0</td>\n",
              "      <td>0.0</td>\n",
              "      <td>0.0</td>\n",
              "      <td>0.0</td>\n",
              "      <td>0.0</td>\n",
              "      <td>1.0</td>\n",
              "      <td>0.0</td>\n",
              "      <td>0.0</td>\n",
              "      <td>0.0</td>\n",
              "    </tr>\n",
              "    <tr>\n",
              "      <th>2</th>\n",
              "      <td>A1</td>\n",
              "      <td>Klint De Drunk PH 1</td>\n",
              "      <td>A1_Klint De Drunk PH 1</td>\n",
              "      <td>-3.39</td>\n",
              "      <td>1</td>\n",
              "      <td>Klint</td>\n",
              "      <td>PH</td>\n",
              "      <td>0.0</td>\n",
              "      <td>0.0</td>\n",
              "      <td>0.0</td>\n",
              "      <td>...</td>\n",
              "      <td>0.0</td>\n",
              "      <td>0.0</td>\n",
              "      <td>0.0</td>\n",
              "      <td>0.0</td>\n",
              "      <td>0.0</td>\n",
              "      <td>0.0</td>\n",
              "      <td>1.0</td>\n",
              "      <td>0.0</td>\n",
              "      <td>0.0</td>\n",
              "      <td>0.0</td>\n",
              "    </tr>\n",
              "    <tr>\n",
              "      <th>3</th>\n",
              "      <td>A1</td>\n",
              "      <td>Klint De Drunk PH 2</td>\n",
              "      <td>A1_Klint De Drunk PH 2</td>\n",
              "      <td>0.44</td>\n",
              "      <td>2</td>\n",
              "      <td>Klint</td>\n",
              "      <td>PH</td>\n",
              "      <td>0.0</td>\n",
              "      <td>0.0</td>\n",
              "      <td>0.0</td>\n",
              "      <td>...</td>\n",
              "      <td>0.0</td>\n",
              "      <td>0.0</td>\n",
              "      <td>0.0</td>\n",
              "      <td>0.0</td>\n",
              "      <td>0.0</td>\n",
              "      <td>0.0</td>\n",
              "      <td>1.0</td>\n",
              "      <td>0.0</td>\n",
              "      <td>0.0</td>\n",
              "      <td>0.0</td>\n",
              "    </tr>\n",
              "    <tr>\n",
              "      <th>4</th>\n",
              "      <td>A1</td>\n",
              "      <td>Klint De Drunk Lagos 1</td>\n",
              "      <td>A1_Klint De Drunk Lagos 1</td>\n",
              "      <td>-4.83</td>\n",
              "      <td>1</td>\n",
              "      <td>Klint</td>\n",
              "      <td>Lagos</td>\n",
              "      <td>0.0</td>\n",
              "      <td>0.0</td>\n",
              "      <td>0.0</td>\n",
              "      <td>...</td>\n",
              "      <td>0.0</td>\n",
              "      <td>0.0</td>\n",
              "      <td>0.0</td>\n",
              "      <td>0.0</td>\n",
              "      <td>0.0</td>\n",
              "      <td>0.0</td>\n",
              "      <td>1.0</td>\n",
              "      <td>0.0</td>\n",
              "      <td>0.0</td>\n",
              "      <td>0.0</td>\n",
              "    </tr>\n",
              "  </tbody>\n",
              "</table>\n",
              "<p>5 rows × 31 columns</p>\n",
              "</div>"
            ],
            "text/plain": [
              "  Viewers_ID         Joke_identifier                Response_ID  Rating  \\\n",
              "0         A1  Klint De Drunk Enugu 1  A1_Klint De Drunk Enugu 1    0.11   \n",
              "1         A1  Klint De Drunk Enugu 2  A1_Klint De Drunk Enugu 2   -4.64   \n",
              "2         A1     Klint De Drunk PH 1     A1_Klint De Drunk PH 1   -3.39   \n",
              "3         A1     Klint De Drunk PH 2     A1_Klint De Drunk PH 2    0.44   \n",
              "4         A1  Klint De Drunk Lagos 1  A1_Klint De Drunk Lagos 1   -4.83   \n",
              "\n",
              "  Number Comedian Location    1  Abuja  Benin  ...   BasketMouth  Bovi  Funny  \\\n",
              "0      1    Klint    Enugu  0.0    0.0    0.0  ...           0.0   0.0    0.0   \n",
              "1      2    Klint    Enugu  0.0    0.0    0.0  ...           0.0   0.0    0.0   \n",
              "2      1    Klint       PH  0.0    0.0    0.0  ...           0.0   0.0    0.0   \n",
              "3      2    Klint       PH  0.0    0.0    0.0  ...           0.0   0.0    0.0   \n",
              "4      1    Klint    Lagos  0.0    0.0    0.0  ...           0.0   0.0    0.0   \n",
              "\n",
              "   Gordons  Helen    I  Klint  Okey  Saka  Seyi  \n",
              "0      0.0    0.0  0.0    1.0   0.0   0.0   0.0  \n",
              "1      0.0    0.0  0.0    1.0   0.0   0.0   0.0  \n",
              "2      0.0    0.0  0.0    1.0   0.0   0.0   0.0  \n",
              "3      0.0    0.0  0.0    1.0   0.0   0.0   0.0  \n",
              "4      0.0    0.0  0.0    1.0   0.0   0.0   0.0  \n",
              "\n",
              "[5 rows x 31 columns]"
            ]
          },
          "metadata": {
            "tags": []
          },
          "execution_count": 19
        }
      ]
    },
    {
      "metadata": {
        "id": "knw4ponLJvma",
        "colab_type": "code",
        "colab": {}
      },
      "cell_type": "code",
      "source": [
        "df.drop(['Joke_identifier','Response_ID', 'Number', 'Location', 'Comedian'], axis=1, inplace=True)"
      ],
      "execution_count": 0,
      "outputs": []
    },
    {
      "metadata": {
        "id": "AY0RHGV_Jvmj",
        "colab_type": "code",
        "colab": {}
      },
      "cell_type": "code",
      "source": [
        "#import the scikit learn library and define the variables\n",
        "from sklearn.tree import DecisionTreeRegressor\n",
        "dfx=df[df.columns.difference(['Viewers_ID','Rating'])]\n",
        "X=dfx\n",
        "y=df.Rating"
      ],
      "execution_count": 0,
      "outputs": []
    },
    {
      "metadata": {
        "id": "GR8W5vE0Jvmv",
        "colab_type": "code",
        "colab": {}
      },
      "cell_type": "code",
      "source": [
        "#Let us rescale the target variable using the MinMax Scaler\n",
        "#from sklearn.preprocessing import MinMaxScaler\n",
        "#scaler =MinMaxScaler(feature_range=(0,1))\n",
        "#Y=scaler.fit_transform(y)"
      ],
      "execution_count": 0,
      "outputs": []
    },
    {
      "metadata": {
        "id": "p64W4TOWJvm0",
        "colab_type": "code",
        "colab": {},
        "outputId": "54a57615-0a65-4b7c-e6cc-68dbe149c939"
      },
      "cell_type": "code",
      "source": [
        "#Let us rescale the target variable using Standard Scaler\n",
        "from sklearn.preprocessing import StandardScaler\n",
        "scaler= StandardScaler().fit(y)\n",
        "Y=scaler.transform(y)"
      ],
      "execution_count": 0,
      "outputs": [
        {
          "output_type": "stream",
          "text": [
            "C:\\Users\\0wner\\Anaconda3\\lib\\site-packages\\sklearn\\preprocessing\\data.py:583: DeprecationWarning: Passing 1d arrays as data is deprecated in 0.17 and will raise ValueError in 0.19. Reshape your data either using X.reshape(-1, 1) if your data has a single feature or X.reshape(1, -1) if it contains a single sample.\n",
            "  warnings.warn(DEPRECATION_MSG_1D, DeprecationWarning)\n",
            "C:\\Users\\0wner\\Anaconda3\\lib\\site-packages\\sklearn\\preprocessing\\data.py:646: DeprecationWarning: Passing 1d arrays as data is deprecated in 0.17 and will raise ValueError in 0.19. Reshape your data either using X.reshape(-1, 1) if your data has a single feature or X.reshape(1, -1) if it contains a single sample.\n",
            "  warnings.warn(DEPRECATION_MSG_1D, DeprecationWarning)\n"
          ],
          "name": "stderr"
        }
      ]
    },
    {
      "metadata": {
        "id": "c2mjdRrHJvnA",
        "colab_type": "code",
        "colab": {}
      },
      "cell_type": "code",
      "source": [
        "#Create decision tree classifier object\n",
        "regr = DecisionTreeRegressor(random_state=0)\n"
      ],
      "execution_count": 0,
      "outputs": []
    },
    {
      "metadata": {
        "id": "YPjVmkDIJvnH",
        "colab_type": "code",
        "colab": {}
      },
      "cell_type": "code",
      "source": [
        "model=regr.fit(X, Y)"
      ],
      "execution_count": 0,
      "outputs": []
    },
    {
      "metadata": {
        "id": "XqYIkAX6JvnS",
        "colab_type": "code",
        "colab": {}
      },
      "cell_type": "code",
      "source": [
        "#load the test dataset\n",
        "test=pd.read_csv('test.csv')"
      ],
      "execution_count": 0,
      "outputs": []
    },
    {
      "metadata": {
        "id": "wly5jXvZJvnX",
        "colab_type": "text"
      },
      "cell_type": "markdown",
      "source": [
        "###Prepare the test dataset for prediction"
      ]
    },
    {
      "metadata": {
        "id": "u-o2AFjSJvnY",
        "colab_type": "code",
        "colab": {}
      },
      "cell_type": "code",
      "source": [
        "test['Number']= test['Joke_identifier'].str.extract('(\\d)', expand=True)"
      ],
      "execution_count": 0,
      "outputs": []
    },
    {
      "metadata": {
        "id": "nHotFI6oJvnz",
        "colab_type": "code",
        "colab": {},
        "collapsed": true
      },
      "cell_type": "code",
      "source": [
        "test['Comedian'] = test['Joke_identifier'].str.extract('([A-Z]\\w{0,})', expand=True)"
      ],
      "execution_count": 0,
      "outputs": []
    },
    {
      "metadata": {
        "id": "DmaJ-QNXJvn4",
        "colab_type": "code",
        "colab": {},
        "outputId": "3e68b182-b269-4355-a760-39044daf6e1f"
      },
      "cell_type": "code",
      "source": [
        "# Extract the location from the Joke identifier column\n",
        "test['Location']= test.Joke_identifier.str.split(' ')\n",
        "test['Location']=test['Location'].str[-2]\n",
        "test.head()"
      ],
      "execution_count": 0,
      "outputs": [
        {
          "output_type": "execute_result",
          "data": {
            "text/html": [
              "<div>\n",
              "<table border=\"1\" class=\"dataframe\">\n",
              "  <thead>\n",
              "    <tr style=\"text-align: right;\">\n",
              "      <th></th>\n",
              "      <th>Viewers_ID</th>\n",
              "      <th>Joke_identifier</th>\n",
              "      <th>Response_ID</th>\n",
              "      <th>Number</th>\n",
              "      <th>Comedian</th>\n",
              "      <th>Location</th>\n",
              "    </tr>\n",
              "  </thead>\n",
              "  <tbody>\n",
              "    <tr>\n",
              "      <th>0</th>\n",
              "      <td>A1</td>\n",
              "      <td>Akpororo Lagos 1</td>\n",
              "      <td>A1_Akpororo Lagos 1</td>\n",
              "      <td>1</td>\n",
              "      <td>Akpororo</td>\n",
              "      <td>Lagos</td>\n",
              "    </tr>\n",
              "    <tr>\n",
              "      <th>1</th>\n",
              "      <td>A1</td>\n",
              "      <td>Akpororo Abuja 1</td>\n",
              "      <td>A1_Akpororo Abuja 1</td>\n",
              "      <td>1</td>\n",
              "      <td>Akpororo</td>\n",
              "      <td>Abuja</td>\n",
              "    </tr>\n",
              "    <tr>\n",
              "      <th>2</th>\n",
              "      <td>A1</td>\n",
              "      <td>Akpororo Abuja 5</td>\n",
              "      <td>A1_Akpororo Abuja 5</td>\n",
              "      <td>5</td>\n",
              "      <td>Akpororo</td>\n",
              "      <td>Abuja</td>\n",
              "    </tr>\n",
              "    <tr>\n",
              "      <th>3</th>\n",
              "      <td>A1</td>\n",
              "      <td>I Go Dye Benin 1</td>\n",
              "      <td>A1_I Go Dye Benin 1</td>\n",
              "      <td>1</td>\n",
              "      <td>I</td>\n",
              "      <td>Benin</td>\n",
              "    </tr>\n",
              "    <tr>\n",
              "      <th>4</th>\n",
              "      <td>A1</td>\n",
              "      <td>I Go Dye Benin 3</td>\n",
              "      <td>A1_I Go Dye Benin 3</td>\n",
              "      <td>3</td>\n",
              "      <td>I</td>\n",
              "      <td>Benin</td>\n",
              "    </tr>\n",
              "  </tbody>\n",
              "</table>\n",
              "</div>"
            ],
            "text/plain": [
              "  Viewers_ID   Joke_identifier          Response_ID Number  Comedian Location\n",
              "0         A1  Akpororo Lagos 1  A1_Akpororo Lagos 1      1  Akpororo    Lagos\n",
              "1         A1  Akpororo Abuja 1  A1_Akpororo Abuja 1      1  Akpororo    Abuja\n",
              "2         A1  Akpororo Abuja 5  A1_Akpororo Abuja 5      5  Akpororo    Abuja\n",
              "3         A1  I Go Dye Benin 1  A1_I Go Dye Benin 1      1         I    Benin\n",
              "4         A1  I Go Dye Benin 3  A1_I Go Dye Benin 3      3         I    Benin"
            ]
          },
          "metadata": {
            "tags": []
          },
          "execution_count": 29
        }
      ]
    },
    {
      "metadata": {
        "id": "-7BEyDSqJvoE",
        "colab_type": "code",
        "colab": {}
      },
      "cell_type": "code",
      "source": [
        "#Use one hot encoding to preprocess the categorical features\n",
        "location_encoded=pd.get_dummies(test[\"Location\"])"
      ],
      "execution_count": 0,
      "outputs": []
    },
    {
      "metadata": {
        "id": "h3t_wFSIJvoJ",
        "colab_type": "code",
        "colab": {}
      },
      "cell_type": "code",
      "source": [
        "comedian_encoded=pd.get_dummies(test[\"Comedian\"])"
      ],
      "execution_count": 0,
      "outputs": []
    },
    {
      "metadata": {
        "id": "IRmXDYjNJvoN",
        "colab_type": "code",
        "colab": {},
        "collapsed": true
      },
      "cell_type": "code",
      "source": [
        "test=test.join(location_encoded)"
      ],
      "execution_count": 0,
      "outputs": []
    },
    {
      "metadata": {
        "id": "YcF13P4_JvoR",
        "colab_type": "code",
        "colab": {},
        "collapsed": true
      },
      "cell_type": "code",
      "source": [
        "test=test.join(comedian_encoded)"
      ],
      "execution_count": 0,
      "outputs": []
    },
    {
      "metadata": {
        "id": "GrwUbJdqJvoY",
        "colab_type": "code",
        "colab": {}
      },
      "cell_type": "code",
      "source": [
        "test.drop(['Joke_identifier','Response_ID', 'Number', 'Location', 'Comedian'], axis=1, inplace=True)"
      ],
      "execution_count": 0,
      "outputs": []
    },
    {
      "metadata": {
        "id": "-OyByyIeJvod",
        "colab_type": "code",
        "colab": {}
      },
      "cell_type": "code",
      "source": [
        "testx=test[test.columns.difference(['Viewers_ID','Rating'])]\n",
        "x_test=testx"
      ],
      "execution_count": 0,
      "outputs": []
    },
    {
      "metadata": {
        "id": "0B5RrhVEJvol",
        "colab_type": "code",
        "colab": {}
      },
      "cell_type": "code",
      "source": [
        "results=model.predict(x_test)"
      ],
      "execution_count": 0,
      "outputs": []
    },
    {
      "metadata": {
        "id": "o0OAHH_dJvoz",
        "colab_type": "code",
        "colab": {}
      },
      "cell_type": "code",
      "source": [
        "submission = pd.DataFrame({\n",
        "        \"Rating\": results\n",
        "    })"
      ],
      "execution_count": 0,
      "outputs": []
    },
    {
      "metadata": {
        "id": "9Btx1_z8Jvo2",
        "colab_type": "code",
        "colab": {},
        "collapsed": true
      },
      "cell_type": "code",
      "source": [
        "submission.to_csv(\"My_Submission3.csv\", index=False)"
      ],
      "execution_count": 0,
      "outputs": []
    },
    {
      "metadata": {
        "id": "W7Wkja09Jvo6",
        "colab_type": "code",
        "colab": {},
        "outputId": "b131aae0-84e0-4cd2-c922-3a380471f3c5"
      },
      "cell_type": "code",
      "source": [
        "submission.info()"
      ],
      "execution_count": 0,
      "outputs": [
        {
          "output_type": "stream",
          "text": [
            "<class 'pandas.core.frame.DataFrame'>\n",
            "RangeIndex: 435873 entries, 0 to 435872\n",
            "Data columns (total 1 columns):\n",
            "Rating    435873 non-null float64\n",
            "dtypes: float64(1)\n",
            "memory usage: 3.3 MB\n"
          ],
          "name": "stdout"
        }
      ]
    },
    {
      "metadata": {
        "id": "DPZ2h429JvpK",
        "colab_type": "code",
        "colab": {},
        "outputId": "e196835e-467f-4b3c-d5f2-eb7dcccd8feb"
      },
      "cell_type": "code",
      "source": [
        "test.info()"
      ],
      "execution_count": 0,
      "outputs": [
        {
          "output_type": "stream",
          "text": [
            "<class 'pandas.core.frame.DataFrame'>\n",
            "RangeIndex: 435873 entries, 0 to 435872\n",
            "Data columns (total 25 columns):\n",
            "Viewers_ID     435873 non-null object\n",
            "1              435873 non-null float64\n",
            "Abuja          435873 non-null float64\n",
            "Benin          435873 non-null float64\n",
            "Ibadan         435873 non-null float64\n",
            "Lagos          435873 non-null float64\n",
            "Owerri         435873 non-null float64\n",
            "PH             435873 non-null float64\n",
            "Rock           435873 non-null float64\n",
            "Uyo            435873 non-null float64\n",
            "Warri          435873 non-null float64\n",
            "AY             435873 non-null float64\n",
            "Akpororo       435873 non-null float64\n",
            "AliBaba        435873 non-null float64\n",
            "BasketMouth    435873 non-null float64\n",
            "Bovi           435873 non-null float64\n",
            "Funny          435873 non-null float64\n",
            "Gordons        435873 non-null float64\n",
            "Helen          435873 non-null float64\n",
            "I              435873 non-null float64\n",
            "Klint          435873 non-null float64\n",
            "MisterIbu      435873 non-null float64\n",
            "Okey           435873 non-null float64\n",
            "Saka           435873 non-null float64\n",
            "Seyi           435873 non-null float64\n",
            "dtypes: float64(24), object(1)\n",
            "memory usage: 81.5+ MB\n"
          ],
          "name": "stdout"
        }
      ]
    },
    {
      "metadata": {
        "id": "msuUctqwJvpS",
        "colab_type": "code",
        "colab": {},
        "collapsed": true
      },
      "cell_type": "code",
      "source": [
        ""
      ],
      "execution_count": 0,
      "outputs": []
    }
  ]
}